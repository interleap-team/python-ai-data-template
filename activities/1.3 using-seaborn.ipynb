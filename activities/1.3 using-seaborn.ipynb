{
 "cells": [
  {
   "cell_type": "code",
   "execution_count": null,
   "metadata": {},
   "outputs": [],
   "source": [
    "#Seaborn Sample"
   ]
  },
  {
   "cell_type": "code",
   "execution_count": null,
   "metadata": {},
   "outputs": [],
   "source": [
    "import seaborn as sns\n",
    "import matplotlib.pyplot as plt\n",
    "\n",
    "# Data\n",
    "products = ['A', 'B', 'C', 'D', 'E']\n",
    "sales = [23, 75, 57, 90, 65]\n",
    "\n",
    "# Create a bar plot\n",
    "sns.set(style=\"whitegrid\")\n",
    "plt.figure(figsize=(10, 5))\n",
    "sns.barplot(x=products, y=sales, palette='Blues\")\n",
    "\n",
    "# Adding titles and labels\n",
    "plt.title(\"Sales of Products\")\n",
    "plt.xlabel(\"Products\")\n",
    "plt.ylabel(\"Sales in Thousands\")\n",
    "\n",
    "# Show plot\n",
    "plt.show()"
   ]
  }
 ],
 "metadata": {
  "language_info": {
   "name": "python"
  }
 },
 "nbformat": 4,
 "nbformat_minor": 2
}
